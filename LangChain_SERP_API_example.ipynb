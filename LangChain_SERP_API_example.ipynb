{
 "cells": [
  {
   "cell_type": "markdown",
   "id": "0be49f0c-8e0b-4782-a9f1-038de253c60d",
   "metadata": {},
   "source": [
    "# Imports"
   ]
  },
  {
   "cell_type": "code",
   "execution_count": 8,
   "id": "33d8c758-66f3-4c6d-897a-8f7ee0d994ae",
   "metadata": {},
   "outputs": [],
   "source": [
    "# imports\n",
    "import os\n",
    "import requests\n",
    "import json\n",
    "import openai\n",
    "import ast\n",
    "\n",
    "# from langchain.llms import AzureOpenAI\n",
    "from langchain.embeddings import OpenAIEmbeddings\n",
    "import pandas as pd\n",
    "import os\n",
    "import json\n",
    "\n",
    "from langchain.document_loaders import TextLoader\n",
    "# from langchain.indexes import VectorstoreIndexCreator\n",
    "from langchain.vectorstores.faiss import FAISS\n",
    "from langchain.chat_models import ChatOpenAI\n",
    "from langchain.chat_models import AzureChatOpenAI\n",
    "\n",
    "from langchain.document_loaders import PyPDFLoader\n",
    "\n",
    "from langchain import LLMChain, PromptTemplate\n",
    "from langchain.chains import RetrievalQA\n",
    "from langchain.memory import ConversationBufferMemory\n",
    "\n",
    "from langchain import OpenAI, SerpAPIWrapper\n",
    "from langchain.agents import initialize_agent, Tool\n",
    "from langchain.agents import AgentType"
   ]
  },
  {
   "cell_type": "markdown",
   "id": "fb71eec0-77f9-4c10-b0b6-258898a2af5b",
   "metadata": {},
   "source": [
    "# Setting the env variables"
   ]
  },
  {
   "cell_type": "code",
   "execution_count": 2,
   "id": "2efa49a5-351c-4a26-9ab3-4e1b36b39f09",
   "metadata": {},
   "outputs": [
    {
     "data": {
      "text/plain": [
       "True"
      ]
     },
     "execution_count": 2,
     "metadata": {},
     "output_type": "execute_result"
    }
   ],
   "source": [
    "from dotenv import load_dotenv\n",
    "load_dotenv()"
   ]
  },
  {
   "cell_type": "code",
   "execution_count": 3,
   "id": "a26917bc-2a98-4f42-bab2-f05099755f69",
   "metadata": {},
   "outputs": [],
   "source": [
    "# variables\n",
    "openai.api_key = os.getenv(\"api_key\")\n",
    "openai.api_base =  os.getenv(\"api_base\") \n",
    "openai.api_type = os.getenv(\"api_type\")\n",
    "openai.api_version = os.getenv(\"api_version\") # this may change in the future\n",
    "deployment_id=os.getenv(\"deployment_id_gpt_4\") \n",
    "\n",
    "gpt_model = os.getenv(\"deployment_id_gpt_4\") \n",
    "model_engine = os.getenv(\"deployment_id_gpt_4\") \n",
    "embd_model = 'text-embedding-ada-002'\n",
    "\n",
    "os.environ[\"OPENAI_API_TYPE\"] = os.getenv(\"api_type\")\n",
    "os.environ[\"OPENAI_API_VERSION\"] = os.getenv(\"api_version\")\n",
    "os.environ[\"OPENAI_API_BASE\"] = os.getenv(\"api_base\")\n",
    "os.environ[\"OPENAI_API_KEY\"] = os.getenv(\"api_key\")\n",
    "\n",
    "SERPAPI_API_KEY = os.getenv(\"SERPAPI_API_KEY\")"
   ]
  },
  {
   "cell_type": "code",
   "execution_count": 4,
   "id": "ef2fd104-054c-4ddf-8a73-1769f7338058",
   "metadata": {},
   "outputs": [],
   "source": [
    "llm = AzureChatOpenAI(deployment_name=deployment_id,model_name=deployment_id, temperature=0.5)"
   ]
  },
  {
   "cell_type": "markdown",
   "id": "6e2f216a-bf94-4f06-8c65-9fe14a695c77",
   "metadata": {},
   "source": [
    "# Creating langchain agent with google search tool"
   ]
  },
  {
   "cell_type": "code",
   "execution_count": 9,
   "id": "a10ec575-19c2-4e30-a8dc-d31055a627f2",
   "metadata": {},
   "outputs": [],
   "source": [
    "from langchain.agents import Tool\n",
    "search = SerpAPIWrapper(serpapi_api_key = SERPAPI_API_KEY)\n",
    "\n",
    "# You can create the tool to pass to an agent\n",
    "tools = [Tool(\n",
    "    name=\"google search\",\n",
    "    description=\"Use this tool to find the relavent information about the query.\",\n",
    "    func=search.run,\n",
    ")]\n",
    "\n",
    "search_agent = initialize_agent(\n",
    "                                    tools, \n",
    "                                    llm, \n",
    "                                    agent=AgentType.ZERO_SHOT_REACT_DESCRIPTION, \n",
    "                                    verbose=True, \n",
    "                                    # max_execution_time=8,\n",
    "                                    max_iteration = 8,\n",
    "                                    early_stopping_method=\"generate\",\n",
    "                                    handle_parsing_errors=True,\n",
    "                                )\n"
   ]
  },
  {
   "cell_type": "markdown",
   "id": "952c5a06-52da-4985-b5ed-899d6482e2f7",
   "metadata": {},
   "source": [
    "# Triggering the query, response will be coming from Google"
   ]
  },
  {
   "cell_type": "code",
   "execution_count": 10,
   "id": "58086366-f6a1-46bb-b46b-23f3bd3d7cf6",
   "metadata": {},
   "outputs": [
    {
     "name": "stdout",
     "output_type": "stream",
     "text": [
      "\n",
      "\n",
      "\u001b[1m> Entering new AgentExecutor chain...\u001b[0m\n",
      "\u001b[32;1m\u001b[1;3mI need to find out who the reigning men's U.S. Open champion is and their hometown.\n",
      "Action: google search\n",
      "Action Input: reigning men's U.S. Open champion hometown\u001b[0m\n",
      "Observation: \u001b[36;1m\u001b[1;3mNewport (1881–1914), Forest Hills (1915–1920, 1924–1977), and Philadelphia (1921–1923) held the event before it settled in 1978 at the USTA National Tennis ...\u001b[0m\n",
      "Thought:\u001b[32;1m\u001b[1;3mI didn't find the information I was looking for. I should search for the current men's U.S. Open champion first.\n",
      "Action: google search\n",
      "Action Input: current men's U.S. Open champion\u001b[0m\n",
      "Observation: \u001b[36;1m\u001b[1;3mMen's Singles US Open Winners in Open Era (1968 - 2022) ; 2016, Stan Wawrinka, SUI ; 2017, Rafael Nadal, ESP ; 2018, Novak Djokovic, SRB ; 2019, Rafael Nadal, ESP.\u001b[0m\n",
      "Thought:\u001b[32;1m\u001b[1;3mI found the recent champions, but I need to find the reigning champion.\n",
      "Action: google search\n",
      "Action Input: 2021 men's U.S. Open champion\u001b[0m\n",
      "Observation: \u001b[36;1m\u001b[1;3mDaniil Medvedev\u001b[0m\n",
      "Thought:\u001b[32;1m\u001b[1;3mI now know the reigning men's U.S. Open champion is Daniil Medvedev. I need to find his hometown.\n",
      "Action: google search\n",
      "Action Input: Daniil Medvedev hometown\u001b[0m\n",
      "Observation: \u001b[36;1m\u001b[1;3mMoscow\u001b[0m\n",
      "Thought:\u001b[32;1m\u001b[1;3mI now know the final answer.\n",
      "Final Answer: Moscow\u001b[0m\n",
      "\n",
      "\u001b[1m> Finished chain.\u001b[0m\n"
     ]
    },
    {
     "data": {
      "text/plain": [
       "'Moscow'"
      ]
     },
     "execution_count": 10,
     "metadata": {},
     "output_type": "execute_result"
    }
   ],
   "source": [
    "search_agent.run(\n",
    "                    \"What is the hometown of the reigning men's U.S. Open champion?\"\n",
    "                )"
   ]
  },
  {
   "cell_type": "code",
   "execution_count": null,
   "id": "898e5a18-cff9-4d28-9542-e6957afe3cd4",
   "metadata": {},
   "outputs": [],
   "source": []
  }
 ],
 "metadata": {
  "kernelspec": {
   "display_name": "Python 3 (ipykernel)",
   "language": "python",
   "name": "python3"
  },
  "language_info": {
   "codemirror_mode": {
    "name": "ipython",
    "version": 3
   },
   "file_extension": ".py",
   "mimetype": "text/x-python",
   "name": "python",
   "nbconvert_exporter": "python",
   "pygments_lexer": "ipython3",
   "version": "3.11.5"
  }
 },
 "nbformat": 4,
 "nbformat_minor": 5
}
